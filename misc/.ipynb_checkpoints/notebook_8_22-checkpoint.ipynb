{
 "cells": [
  {
   "cell_type": "code",
   "execution_count": 1,
   "id": "3cd47623-1b8b-4766-8216-7b464fddd8ee",
   "metadata": {},
   "outputs": [
    {
     "name": "stdout",
     "output_type": "stream",
     "text": [
      "Welcome to JupyROOT 6.26/16\n"
     ]
    }
   ],
   "source": [
    "import numpy as np\n",
    "import matplotlib.pyplot as plt\n",
    "import collections\n",
    "import ROOT as root\n",
    "import awkward as ak\n",
    "import uproot\n",
    "from array import array\n",
    "import torch\n",
    "import networkx as nx\n",
    "from scipy.spatial import Delaunay\n",
    "from torch_geometric.data import Data, Dataset\n",
    "import sys\n",
    "import os"
   ]
  },
  {
   "cell_type": "code",
   "execution_count": 55,
   "id": "e528dd86-6345-4bee-8eaf-3cd0bcb21f99",
   "metadata": {},
   "outputs": [],
   "source": [
    "def AddInfo(dbscan_hits, const_hit_array, edep_events):\n",
    "    event = root.TG4Event()\n",
    "    edep_events.SetBranchAddress(\"Event\",root.AddressOf(event))\n",
    "    dbscan_cluster_list = []\n",
    "    spills_in_file = np.unique(dbscan_hits[:,-3])\n",
    "    iter_ = 0\n",
    "    for spill_number in range(2): #spills_in_file:\n",
    "        spill_level = dbscan_hits[dbscan_hits[:,-3] == spill_number]\n",
    "        segments_in_spill = np.unique(spill_level[:,-2])\n",
    "        for segment_number in segments_in_spill:\n",
    "            time_segment_level = spill_level[spill_level[:,-2] == segment_number]\n",
    "            clusters_in_segment = np.unique(time_segment_level[:,-1])\n",
    "            for cluster_number in clusters_in_segment:\n",
    "                dbscan_cluster_level = time_segment_level[time_segment_level[:,-1] == cluster_number]\n",
    "                rows = []\n",
    "                #alright, for each hit can pull the m-nn, m-hn. \n",
    "                expected_hits = len(dbscan_cluster_level)\n",
    "                for i, hit in enumerate(dbscan_cluster_level):\n",
    "                    #assign refs \n",
    "                    m_nn = hit[0]\n",
    "                    m_hn = hit[1]\n",
    "                    ref_nn = m_nn\n",
    "                    ref_hn = m_hn\n",
    "                \n",
    "                    #grab the const hit array\n",
    "                    const_hit_array_nn = const_hit_array[const_hit_array[:,0] == m_nn]\n",
    "                    const_hit_info = const_hit_array_nn[const_hit_array_nn[:,1] == m_hn]\n",
    "                \n",
    "                    #pull the default information. \n",
    "                    edep_events.GetEntry(int(m_nn)) #assign the event. Gets called at least once per hit.  \n",
    "                    #print(f'{m_nn} and {m_hn}')\n",
    "                    default_trackid = int(hit[2])\n",
    "                    default_pdgid = ((event.Trajectories)[default_trackid]).GetPDGCode() #pull only one trajectory and pdgid we are interested in. \n",
    "\n",
    "                    #ok now we have the defaults. Two paths:\n",
    "\n",
    "                    #If our pdgid is != 13, AND we have constituent hits to scan over, then lets scan over them.\n",
    "                    if (abs(default_pdgid) != 13) and (np.shape(const_hit_info)[0] > 1):\n",
    "                        #loop over the constituent hit nns, want to limit get entry calls\n",
    "                        Replaced = False #monitors state, helps us break early or make sure to add our row at the end of no replacement is found. \n",
    "                        for constituent_hit_nn in np.unique(const_hit_info[:,2]):\n",
    "                            #we have to loop over neutrino number since we have instances of merged hits w/ multiple neutrino events. \n",
    "                            #check state, and if it has already been replaced, continue no further. \n",
    "                            if Replaced == True:\n",
    "                                break\n",
    "                            edep_events.GetEntry(int(constituent_hit_nn)) #set the event. \n",
    "                            const_nn_sub_array = const_hit_info[const_hit_info[:,2] == constituent_hit_nn ] #grab the constituent hits w/ the desired neutrino number\n",
    "                            for const_hit in const_nn_sub_array:\n",
    "                                #another check of state!\n",
    "                                if Replaced == True:\n",
    "                                    break\n",
    "                                \n",
    "                                const_hit_number = const_hit[3]\n",
    "                                const_trackid = int(const_hit[4])\n",
    "                                const_pdgid = ((event.Trajectories)[const_trackid]).GetPDGCode() #pull only one trajectory and pdgid we are interested in.\n",
    "                            \n",
    "                                #ok, so we've found an instance of a constituent w/ a pdgid of 13! Let's save our row. \n",
    "                                if (abs(const_pdgid) == 13):\n",
    "                                    Replaced = True #set the state. \n",
    "                                    new_row = np.array((constituent_hit_nn, const_hit_number, hit[4], hit[3], hit[6], const_trackid, const_pdgid))\n",
    "                                    rows.append(new_row)\n",
    "                                    iter_ +=1 \n",
    "\n",
    "                        #say we have loop over all constituents and found no muons, despite there being constituents, means our Replaced will still be False\n",
    "                        if (Replaced == False):\n",
    "                            #if found no replacement despite not being a muon by default, and having constituents, just append the defaults. \n",
    "                            new_row = np.array((ref_nn, ref_hn, hit[4], hit[3], hit[6], default_trackid, default_pdgid))\n",
    "                            rows.append(new_row)\n",
    "                            iter_ +=1 \n",
    "    \n",
    "                    #Else -> Ie, our pdgid == 13, OR our pdgid != 13 but there is only 1 constituent hit, nothing to scan over, just save what we have as default. \n",
    "                    else:\n",
    "                        new_row = np.array((ref_nn, ref_hn, hit[4], hit[3], hit[6], default_trackid, default_pdgid))\n",
    "                        rows.append(new_row)\n",
    "                        iter_ +=1\n",
    "\n",
    "                    if (iter_ % 1000 == 0):\n",
    "                        print(f'Added info through - {iter_}')\n",
    "\n",
    "                #add to our running list, now grouped by cluster. \n",
    "                infod_hits = len(rows)\n",
    "                if infod_hits != expected_hits:\n",
    "                    print(f\"Iter - {iter}, Expected {expected_hits}, got {infod_hits} - something is wrong!\")\n",
    "                dbscan_hits_with_info = np.vstack(rows)\n",
    "                dbscan_cluster_list.append(dbscan_hits_with_info)\n",
    "                    \n",
    "    return(dbscan_cluster_list)"
   ]
  },
  {
   "cell_type": "code",
   "execution_count": 56,
   "id": "f3cdfd42-5407-4b6a-86b7-42aa1b6ac035",
   "metadata": {},
   "outputs": [],
   "source": [
    "detsim_file = uproot.open(\"/sdf/data/neutrino/summer25/ktwall/full_spill_detsim/detsim_2500.root\")"
   ]
  },
  {
   "cell_type": "code",
   "execution_count": 57,
   "id": "8206be4c-79bf-4488-980d-503cfe89aebf",
   "metadata": {},
   "outputs": [],
   "source": [
    "merged_tree = detsim_file[\"MergedTree\"]"
   ]
  },
  {
   "cell_type": "code",
   "execution_count": 58,
   "id": "3460974a-efe2-4a4e-9a6e-2c882e375f50",
   "metadata": {},
   "outputs": [],
   "source": [
    "const_nns = merged_tree[\"constituent_neutrino_numbers\"].array()\n",
    "const_hns = merged_tree[\"constituent_hit_numbers\"].array()\n",
    "const_trackids = merged_tree[\"constituent_hit_trackids\"].array()\n",
    "#want an array like core nn, core hn, const nn, const hn, const trackid"
   ]
  },
  {
   "cell_type": "code",
   "execution_count": 60,
   "id": "e61bbb0a-f8ea-4551-a5ce-d4242aca9610",
   "metadata": {},
   "outputs": [],
   "source": [
    "constituency_array_list = []\n",
    "for i in range(len(const_nns)):\n",
    "    merged_group_index = i\n",
    "    merged_group_nns = const_nns[i]\n",
    "    merged_group_hns = const_hns[i]\n",
    "    merged_group_trackids = const_trackids[i]\n",
    "    core_nn = merged_group_nns[0] #core is definitionally first element of the vector \n",
    "    core_hn = merged_group_hns[0]\n",
    "    for j in range(1,len(merged_group_nns)): #loop over remaining indices, these are constituents. Only runs if more than one entry. \n",
    "        constituency_info = [core_nn,core_hn, merged_group_nns[j], merged_group_hns[j], merged_group_trackids[j]]\n",
    "        constituency_array_list.append(constituency_info)"
   ]
  },
  {
   "cell_type": "code",
   "execution_count": 38,
   "id": "8bc6473a-6ded-47be-8d4a-ca948a6f8530",
   "metadata": {},
   "outputs": [],
   "source": [
    "constituency_array = np.vstack(constituency_array_list)"
   ]
  },
  {
   "cell_type": "code",
   "execution_count": 61,
   "id": "74abec89-509d-4da1-afc4-f5c092bf6c22",
   "metadata": {},
   "outputs": [],
   "source": [
    "nn_sub = constituency_array[constituency_array[:,0] == 654]\n",
    "hit_sub = nn_sub[nn_sub[:,1] == 1102]"
   ]
  },
  {
   "cell_type": "code",
   "execution_count": 62,
   "id": "9fa94958-30db-4c7e-a74f-c0c0226ee02c",
   "metadata": {},
   "outputs": [],
   "source": [
    "clustered_file = np.load(\"/sdf/home/k/ktwall/hits_clustered_epsilon_0.1_2500.npz\")"
   ]
  },
  {
   "cell_type": "code",
   "execution_count": 63,
   "id": "2aac89d6-8e40-42bb-bb9b-1b70b907d660",
   "metadata": {},
   "outputs": [],
   "source": [
    "const_array = clustered_file[\"constituents_array\"]\n",
    "dbscan_hits = clustered_file[\"dbscan_hits\"]"
   ]
  },
  {
   "cell_type": "code",
   "execution_count": 64,
   "id": "1be2382c-f207-4a82-bb33-0c98f650eede",
   "metadata": {},
   "outputs": [],
   "source": [
    "f = root.TFile.Open(\"/sdf/data/neutrino/summer25/tanaka/nd-production/run-spill-build/MicroProdN4p1_NDComplex_FHC.spill.full/EDEPSIM_SPILLS/0002000/0002500/MicroProdN4p1_NDComplex_FHC.spill.full.0002500.EDEPSIM_SPILLS.root\")\n",
    "edep_events = f.Get(\"EDepSimEvents\")"
   ]
  },
  {
   "cell_type": "code",
   "execution_count": 65,
   "id": "9b711c62-8c8a-478c-b24f-d5bd20444ddd",
   "metadata": {},
   "outputs": [
    {
     "ename": "TypeError",
     "evalue": "an integer is required",
     "output_type": "error",
     "traceback": [
      "\u001b[0;31m---------------------------------------------------------------------------\u001b[0m",
      "\u001b[0;31mTypeError\u001b[0m                                 Traceback (most recent call last)",
      "Cell \u001b[0;32mIn[65], line 1\u001b[0m\n\u001b[0;32m----> 1\u001b[0m \u001b[43mAddInfo\u001b[49m\u001b[43m(\u001b[49m\u001b[43mdbscan_hits\u001b[49m\u001b[43m,\u001b[49m\u001b[43m \u001b[49m\u001b[43mconst_array\u001b[49m\u001b[43m,\u001b[49m\u001b[43m \u001b[49m\u001b[43medep_events\u001b[49m\u001b[43m)\u001b[49m\n",
      "Cell \u001b[0;32mIn[55], line 33\u001b[0m, in \u001b[0;36mAddInfo\u001b[0;34m(dbscan_hits, const_hit_array, edep_events)\u001b[0m\n\u001b[1;32m     31\u001b[0m \u001b[38;5;66;03m#print(f'{m_nn} and {m_hn}')\u001b[39;00m\n\u001b[1;32m     32\u001b[0m default_trackid \u001b[38;5;241m=\u001b[39m hit[\u001b[38;5;241m2\u001b[39m]\n\u001b[0;32m---> 33\u001b[0m default_pdgid \u001b[38;5;241m=\u001b[39m (\u001b[43m(\u001b[49m\u001b[43mevent\u001b[49m\u001b[38;5;241;43m.\u001b[39;49m\u001b[43mTrajectories\u001b[49m\u001b[43m)\u001b[49m\u001b[43m[\u001b[49m\u001b[43mdefault_trackid\u001b[49m\u001b[43m]\u001b[49m)\u001b[38;5;241m.\u001b[39mGetPDGCode() \u001b[38;5;66;03m#pull only one trajectory and pdgid we are interested in. \u001b[39;00m\n\u001b[1;32m     35\u001b[0m \u001b[38;5;66;03m#ok now we have the defaults. Two paths:\u001b[39;00m\n\u001b[1;32m     36\u001b[0m \n\u001b[1;32m     37\u001b[0m \u001b[38;5;66;03m#If our pdgid is != 13, AND we have constituent hits to scan over, then lets scan over them.\u001b[39;00m\n\u001b[1;32m     38\u001b[0m \u001b[38;5;28;01mif\u001b[39;00m (\u001b[38;5;28mabs\u001b[39m(default_pdgid) \u001b[38;5;241m!=\u001b[39m \u001b[38;5;241m13\u001b[39m) \u001b[38;5;129;01mand\u001b[39;00m (np\u001b[38;5;241m.\u001b[39mshape(const_hit_info)[\u001b[38;5;241m0\u001b[39m] \u001b[38;5;241m>\u001b[39m \u001b[38;5;241m1\u001b[39m):\n\u001b[1;32m     39\u001b[0m     \u001b[38;5;66;03m#loop over the constituent hit nns, want to limit get entry calls\u001b[39;00m\n",
      "\u001b[0;31mTypeError\u001b[0m: an integer is required"
     ]
    }
   ],
   "source": [
    "AddInfo(dbscan_hits, const_array, edep_events)"
   ]
  },
  {
   "cell_type": "code",
   "execution_count": null,
   "id": "57850095-5e99-4971-854e-cc8f8a5c9990",
   "metadata": {},
   "outputs": [],
   "source": []
  }
 ],
 "metadata": {
  "kernelspec": {
   "display_name": "Python 3 (ipykernel)",
   "language": "python",
   "name": "python3"
  },
  "language_info": {
   "codemirror_mode": {
    "name": "ipython",
    "version": 3
   },
   "file_extension": ".py",
   "mimetype": "text/x-python",
   "name": "python",
   "nbconvert_exporter": "python",
   "pygments_lexer": "ipython3",
   "version": "3.10.12"
  }
 },
 "nbformat": 4,
 "nbformat_minor": 5
}
