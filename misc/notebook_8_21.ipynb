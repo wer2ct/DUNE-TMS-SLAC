{
 "cells": [
  {
   "cell_type": "code",
   "execution_count": 1,
   "id": "75c07935-7306-4979-99d4-1c8660384010",
   "metadata": {},
   "outputs": [
    {
     "name": "stdout",
     "output_type": "stream",
     "text": [
      "Welcome to JupyROOT 6.26/16\n"
     ]
    }
   ],
   "source": [
    "import uproot\n",
    "import matplotlib.pyplot as plt\n",
    "import awkward as ak\n",
    "import numpy as np\n",
    "import math\n",
    "import ROOT as root\n",
    "from array import array\n",
    "from numba import jit #sorta optional (TODO - Implement toggling for numba optimization)\n",
    "from collections import defaultdict\n",
    "import sys\n",
    "import ctypes\n",
    "from numba import njit, types\n",
    "from numba.typed import Dict, List"
   ]
  },
  {
   "cell_type": "code",
   "execution_count": 2,
   "id": "2b3d9ccd-e917-4baa-bf6b-29be0e1cbf3f",
   "metadata": {},
   "outputs": [],
   "source": [
    "file_python = uproot.open(\"/sdf/home/k/ktwall/detsim_2500.root\")"
   ]
  },
  {
   "cell_type": "code",
   "execution_count": 3,
   "id": "a1753ec4-8ccf-47a5-b89b-40ca78c28364",
   "metadata": {},
   "outputs": [],
   "source": [
    "merged_tree = file_python[\"MergedTree\"]\n",
    "unmerged_tree = file_python[\"UnmergedTree\"]\n",
    "neutrino_tree = file_python[\"NeutrinoVertexTree\"]\n",
    "\n",
    "unmerged_times = unmerged_tree['DetSimHitT'].array()\n",
    "spillnos_nvtx = neutrino_tree[\"NeutrinoSpill\"].array()\n",
    "spillnos_merged = merged_tree[\"MergedSpillNumber\"].array()\n",
    "times_merged = merged_tree[\"MergedDetSimHitT\"].array()"
   ]
  },
  {
   "cell_type": "code",
   "execution_count": 4,
   "id": "2d9e08ca-0288-47b7-bee3-9326c00a56e9",
   "metadata": {},
   "outputs": [
    {
     "data": {
      "text/plain": [
       "['MergedNeutrinoNumber',\n",
       " 'MergedHitNumber',\n",
       " 'MergedSpillNumber',\n",
       " 'MergedTrackid',\n",
       " 'MergedFileNumber',\n",
       " 'MergedTrueHitX',\n",
       " 'MergedTrueHitY',\n",
       " 'MergedTrueHitZ',\n",
       " 'MergedTrueHitT',\n",
       " 'MergedTrueHitDx',\n",
       " 'MergedTruePrimDep',\n",
       " 'MergedDetSimHitX',\n",
       " 'MergedDetSimHitY',\n",
       " 'MergedDetSimHitZ',\n",
       " 'MergedDetSimHitT',\n",
       " 'MergedDetSimHitPE',\n",
       " 'MergedDetSimHitBarNo',\n",
       " 'MergedDetSimHitLayerNo',\n",
       " 'MergedDetSimHitBarOrient',\n",
       " 'constituent_neutrino_numbers',\n",
       " 'constituent_hit_numbers',\n",
       " 'constituent_hit_trackids',\n",
       " 'constituent_hitTs',\n",
       " 'constituent_hitPEs']"
      ]
     },
     "execution_count": 4,
     "metadata": {},
     "output_type": "execute_result"
    }
   ],
   "source": [
    "#lets try and do a common task for this framework - loading in all the merged hits for a given neutrino interaction. \n",
    "merged_tree = file_python[\"MergedTree\"]\n",
    "merged_tree.keys()"
   ]
  },
  {
   "cell_type": "code",
   "execution_count": 5,
   "id": "71d2625f-42e7-4d1f-ac40-8c274bf24a1f",
   "metadata": {},
   "outputs": [],
   "source": [
    "def unpack_hits(merged_tree):\n",
    "    #lets create a large array of pieces of hit information.\n",
    "    nns = merged_tree['MergedNeutrinoNumber'].array()\n",
    "    hns = merged_tree['MergedHitNumber'].array()\n",
    "    trackids = merged_tree['MergedTrackid'].array()\n",
    "    spill_nos = merged_tree['MergedSpillNumber'].array()\n",
    "    detsimx = merged_tree['MergedDetSimHitX'].array()\n",
    "    detsimy = merged_tree['MergedDetSimHitY'].array()\n",
    "    detsimz = merged_tree['MergedDetSimHitZ'].array()\n",
    "    detsimt = merged_tree['MergedDetSimHitT'].array()\n",
    "    detsimPE = merged_tree['MergedDetSimHitPE'].array()\n",
    "    array = np.column_stack([nns, hns, trackids, detsimx, detsimz, detsimt, detsimPE, spill_nos])\n",
    "    return(array)"
   ]
  },
  {
   "cell_type": "code",
   "execution_count": 6,
   "id": "aa325c2f-ce8e-4800-8723-1b9c695bb97c",
   "metadata": {},
   "outputs": [
    {
     "data": {
      "text/html": [
       "<pre>[[0, 347, 3, -519, 1.46e+04, -1.79, 222, 0],\n",
       " [417, 4.89e+03, 2.66e+03, 1.19e+03, 1.46e+04, 8.6e+03, 17.1, 0],\n",
       " [330, 113, 94, 2.9e+03, 1.46e+04, 1.23e+04, 66.4, 0],\n",
       " [654, 1.1e+03, 665, 2.9e+03, 1.46e+04, 1.2e+09, 7.11, 1],\n",
       " [1.1e+03, 70, 0, 2.9e+03, 1.46e+04, 2.4e+09, 67, 2],\n",
       " [1.22e+03, 263, 74, -2.23e+03, 1.46e+04, 2.4e+09, 133, 2],\n",
       " [1.25e+03, 134, 22, 1.19e+03, 1.46e+04, 2.4e+09, 6.39, 2],\n",
       " [1.74e+03, 883, 0, 2.9e+03, 1.46e+04, 3.6e+09, 23.8, 3],\n",
       " [1.97e+03, 559, 227, 2.9e+03, 1.46e+04, 4.8e+09, 7.39, 4],\n",
       " [2.34e+03, 1.26e+03, 643, -519, 1.46e+04, 6e+09, 23.3, 5],\n",
       " ...,\n",
       " [4.58e+03, 11, 0, 448, 1.18e+04, 1.2e+10, 21.5, 10],\n",
       " [4.68e+03, 10, 0, -1.26e+03, 1.18e+04, 1.2e+10, 35.5, 10],\n",
       " [4.7e+03, 9, 0, -2.97e+03, 1.18e+04, 1.2e+10, 31.2, 10],\n",
       " [4.96e+03, 11, 0, -1.26e+03, 1.18e+04, 1.32e+10, 50.3, 11],\n",
       " [5.11e+03, 9, 0, -1.26e+03, 1.18e+04, 1.32e+10, 32.3, 11],\n",
       " [5.4e+03, 78, 1, 2.16e+03, 1.19e+04, 1.44e+10, 30.5, 12],\n",
       " [5.47e+03, 12, 1, 2.16e+03, 1.18e+04, 1.44e+10, 80.9, 12],\n",
       " [5.53e+03, 95, 49, 448, 1.19e+04, 1.44e+10, 32.1, 12],\n",
       " [5.71e+03, 191, 71, -2.97e+03, 1.18e+04, 1.44e+10, 80.9, 12]]\n",
       "-----------------------------------------------------------------\n",
       "backend: cpu\n",
       "nbytes: 5.8 MB\n",
       "type: 91354 * 8 * float64</pre>"
      ],
      "text/plain": [
       "<Array [[0, 347, 3, -519, ..., -1.79, 222, 0], ...] type='91354 * 8 * float64'>"
      ]
     },
     "execution_count": 6,
     "metadata": {},
     "output_type": "execute_result"
    }
   ],
   "source": [
    "combined_array = unpack_hits(merged_tree)\n",
    "combined_array "
   ]
  },
  {
   "cell_type": "code",
   "execution_count": 7,
   "id": "8244b177-f5cc-4b2e-a882-bdfe0be17c6a",
   "metadata": {},
   "outputs": [
    {
     "data": {
      "text/html": [
       "<pre>[[25, 147, 0, -979, 1.77e+04, 513, 68.5, 0],\n",
       " [25, 96, 28, -2.72e+03, 1.67e+04, 541, 7.17, 0],\n",
       " [25, 78, 25, -2.8e+03, 1.68e+04, 571, 3.55, 0],\n",
       " [25, 13, 11, -2.41e+03, 1.67e+04, 772, 4, 0],\n",
       " [25, 54, 16, -2.69e+03, 1.7e+04, 620, 3.68, 0],\n",
       " [25, 56, 20, -2.58e+03, 1.69e+04, 570, 3.78, 0],\n",
       " [25, 58, 20, -2.44e+03, 1.69e+04, 679, 3.73, 0],\n",
       " [25, 59, 20, -2.48e+03, 1.69e+04, 680, 3.73, 0],\n",
       " [25, 80, 25, -2.72e+03, 1.7e+04, 762, 3.58, 0],\n",
       " [25, 98, 26, -2.87e+03, 1.66e+04, 525, 3.63, 0],\n",
       " ...,\n",
       " [25, 148, 0, -979, 1.78e+04, 515, 28.4, 0],\n",
       " [25, 149, 0, -944, 1.78e+04, 515, 89.8, 0],\n",
       " [25, 192, 63, -944, 1.78e+04, 843, 3.2, 0],\n",
       " [25, 151, 0, -731, 1.78e+04, 516, 57.9, 0],\n",
       " [25, 152, 0, -696, 1.78e+04, 516, 74.4, 0],\n",
       " [25, 180, 58, -554, 1.78e+04, 801, 5.8, 0],\n",
       " [25, 182, 62, -908, 1.78e+04, 845, 69.6, 0],\n",
       " [25, 194, 65, -165, 1.78e+04, 786, 8.56, 0],\n",
       " [25, 197, 67, -1.05e+03, 1.77e+04, 513, 14.5, 0]]\n",
       "--------------------------------------------------\n",
       "backend: cpu\n",
       "nbytes: 2.2 kB\n",
       "type: 35 * 8 * float64</pre>"
      ],
      "text/plain": [
       "<Array [[25, 147, 0, -979, ..., 513, 68.5, 0], ...] type='35 * 8 * float64'>"
      ]
     },
     "execution_count": 7,
     "metadata": {},
     "output_type": "execute_result"
    }
   ],
   "source": [
    "event_0 = combined_array[combined_array[:,0] == 25]\n",
    "event_0"
   ]
  },
  {
   "cell_type": "code",
   "execution_count": 8,
   "id": "b635eae6-63f8-47c9-93b7-22c05a6d9fd1",
   "metadata": {},
   "outputs": [
    {
     "data": {
      "text/plain": [
       "<matplotlib.collections.PathCollection at 0x7fe07d583f40>"
      ]
     },
     "execution_count": 8,
     "metadata": {},
     "output_type": "execute_result"
    },
    {
     "data": {
      "image/png": "[encoded data removed]",
      "text/plain": [
       "<Figure size 640x480 with 1 Axes>"
      ]
     },
     "metadata": {},
     "output_type": "display_data"
    }
   ],
   "source": [
    "plt.scatter(event_0[:,4], event_0[:,3])"
   ]
  },
  {
   "cell_type": "code",
   "execution_count": 9,
   "id": "9e80d88d-7448-48ce-b186-7a65d076a82b",
   "metadata": {},
   "outputs": [],
   "source": [
    "merged_tree = file_python[\"MergedTree\"]\n",
    "nns = merged_tree['MergedNeutrinoNumber'].array()\n",
    "detsimPE = merged_tree['MergedDetSimHitPE'].array()\n",
    "all_hits_array = np.column_stack([nns, detsimPE])\n",
    "nn_info = []\n",
    "for nn in np.unique(all_hits_array[:,0]):\n",
    "    nn_subarray = all_hits_array[all_hits_array[:,0] == nn]\n",
    "    visible_PE_sum = np.sum(nn_subarray[:,1])\n",
    "    n_hits = len(nn_subarray[:,1])\n",
    "    nn_info.append([nn, n_hits,visible_PE_sum])\n",
    "            \n",
    "nn_info_array = np.vstack(nn_info)"
   ]
  },
  {
   "cell_type": "code",
   "execution_count": 10,
   "id": "07f24229-b422-4298-ba47-ecf651dd58a9",
   "metadata": {},
   "outputs": [
    {
     "data": {
      "text/plain": [
       "2473"
      ]
     },
     "execution_count": 10,
     "metadata": {},
     "output_type": "execute_result"
    }
   ],
   "source": [
    "len(nn_info_array )"
   ]
  },
  {
   "cell_type": "code",
   "execution_count": 11,
   "id": "e60e5f05-bb4f-4867-ae22-9e62db11a76a",
   "metadata": {},
   "outputs": [
    {
     "data": {
      "text/plain": [
       "array([[  25.        ,   35.        , 1188.70240735]])"
      ]
     },
     "execution_count": 11,
     "metadata": {},
     "output_type": "execute_result"
    }
   ],
   "source": [
    "nn_info_array[nn_info_array[:,0] == 25]"
   ]
  },
  {
   "cell_type": "code",
   "execution_count": 12,
   "id": "38e6ce05-02c8-439a-b361-522377e68758",
   "metadata": {},
   "outputs": [
    {
     "data": {
      "text/plain": [
       "0"
      ]
     },
     "execution_count": 12,
     "metadata": {},
     "output_type": "execute_result"
    }
   ],
   "source": [
    "len(nn_info_array[nn_info_array[:,0] == 2])"
   ]
  },
  {
   "cell_type": "code",
   "execution_count": 13,
   "id": "59cb9305-b7e2-42b5-a117-fa9595cb17c3",
   "metadata": {},
   "outputs": [],
   "source": [
    "#-------------------------------------------------------------------------------------------------------------------------------------------------------------------------#\n",
    "#Imports\n",
    "import numpy as np\n",
    "import matplotlib.pyplot as plt\n",
    "import collections\n",
    "import ROOT as root\n",
    "import awkward as ak\n",
    "import uproot\n",
    "from sklearn.cluster import DBSCAN\n",
    "from sklearn.neighbors import NearestNeighbors\n",
    "from sklearn.neighbors import KernelDensity\n",
    "from scipy.signal import find_peaks\n",
    "import sys\n",
    "#-------------------------------------------------------------------------------------------------------------------------------------------------------------------------#\n",
    "#Functions\n",
    "#(collective_neutrino_number, collective_hit_number, bar_x, bar_y, bar_z, collective_time, total_pe, bar_orientation_code, file_no, truth_spill)\n",
    "def BuildInputArray(merged_hits_tree_):\n",
    "    nns = merged_tree['MergedNeutrinoNumber'].array()\n",
    "    hns = merged_tree['MergedHitNumber'].array()\n",
    "    trackids = merged_tree['MergedTrackid'].array()\n",
    "    detsimx = merged_tree['MergedDetSimHitX'].array()\n",
    "    detsimz = merged_tree['MergedDetSimHitZ'].array()\n",
    "    detsimt = merged_tree['MergedDetSimHitT'].array()\n",
    "    detsimPE = merged_tree['MergedDetSimHitPE'].array()\n",
    "    spill_nos = merged_tree['MergedSpillNumber'].array()\n",
    "    file_number = merged_tree['MergedFileNumber'].array()\n",
    "    array = np.column_stack([nns, hns, trackids, detsimx, detsimz, detsimt, detsimPE, file_number, spill_nos])\n",
    "    sorted_array = array[np.argsort(array[:,5])]\n",
    "    return(sorted_array)"
   ]
  },
  {
   "cell_type": "code",
   "execution_count": 14,
   "id": "53fb373e-7df8-4d5f-8349-96e228f2fa4e",
   "metadata": {},
   "outputs": [
    {
     "data": {
      "text/html": [
       "<pre>[[0, 347, 3, -519, 1.46e+04, -1.79, 222, 2.5e+03, 0],\n",
       " [0, 164, 88, -625, 1.44e+04, -1.47, 47.6, 2.5e+03, 0],\n",
       " [0, 32, 15, -484, 1.46e+04, -1.29, 32.4, 2.5e+03, 0],\n",
       " [0, 189, 10, -448, 1.46e+04, -1.26, 65.6, 2.5e+03, 0],\n",
       " [0, 418, 159, -448, 1.47e+04, -1.11, 15, 2.5e+03, 0],\n",
       " [0, 190, 10, -484, 1.47e+04, -1.1, 82, 2.5e+03, 0],\n",
       " [0, 33, 15, -554, 1.47e+04, -1.05, 112, 2.5e+03, 0],\n",
       " [0, 34, 15, -519, 1.48e+04, -1.04, 77.9, 2.5e+03, 0],\n",
       " [0, 160, 90, -696, 1.42e+04, -0.848, 4.94, 2.5e+03, 0],\n",
       " [0, 351, 0, -413, 1.48e+04, -0.661, 31.6, 2.5e+03, 0],\n",
       " ...,\n",
       " [5.67e+03, 340, 131, -2.16e+03, 1.66e+04, 1.44e+10, 13.7, 2.5e+03, 12],\n",
       " [5.72e+03, 45, 41, 1.23e+03, 1.4e+04, 1.44e+10, 5.17, 2.5e+03, 12],\n",
       " [5.71e+03, 1.46e+03, 646, -1.84e+03, ..., 1.44e+10, 45.9, 2.5e+03, 12],\n",
       " [5.47e+03, 238, 136, -2.16e+03, 1.81e+04, 1.44e+10, 24.1, 2.5e+03, 12],\n",
       " [5.68e+03, 222, 105, -1.88e+03, 1.49e+04, 1.44e+10, 14.7, 2.5e+03, 12],\n",
       " [5.72e+03, 24, 25, 2.55e+03, 1.54e+04, 1.44e+10, 10.5, 2.5e+03, 12],\n",
       " [5.72e+03, 26, 25, 2.58e+03, 1.54e+04, 1.44e+10, 27.2, 2.5e+03, 12],\n",
       " [5.72e+03, 1.38e+03, 516, 1.33e+03, ..., 1.44e+10, 3.65, 2.5e+03, 12],\n",
       " [5.53e+03, 82, 1.64e+03, 2.55e+03, 1.54e+04, 1.44e+10, 66, 2.5e+03, 12]]\n",
       "-------------------------------------------------------------------------\n",
       "backend: cpu\n",
       "nbytes: 6.6 MB\n",
       "type: 91354 * 9 * float64</pre>"
      ],
      "text/plain": [
       "<Array [[0, 347, 3, ..., 222, 2.5e+03, 0], ...] type='91354 * 9 * float64'>"
      ]
     },
     "execution_count": 14,
     "metadata": {},
     "output_type": "execute_result"
    }
   ],
   "source": [
    "BuildInputArray(merged_tree)"
   ]
  },
  {
   "cell_type": "code",
   "execution_count": 15,
   "id": "0fb57188-6bd5-4645-ada5-96377f4f8814",
   "metadata": {},
   "outputs": [],
   "source": [
    "def MakeKDSegments(hits, bandwidth = 15, mesh_points = 1000, plot = False):\n",
    "    \n",
    "    hit_ts = hits[:,5].to_numpy() #extract just the time series data. \n",
    "    \n",
    "    hit_ts_reshaped = hit_ts.reshape(-1, 1)\n",
    "\n",
    "    # KDE fitting using a gaussian kernel. \n",
    "    kde = KernelDensity(kernel='gaussian', bandwidth=bandwidth).fit(hit_ts_reshaped)\n",
    "\n",
    "    # Evaluate KDE on a fine grid - project our function onto a fine grid to look for local minima\n",
    "    #This is a necessary step to be able to find our local minima numerically. Basically the kde gives us our functional form, we need to plot it on points to get out the pdf. \n",
    "    #The plotting with the points is accomplished by pulling the score_samples method, which returns log likelihoods. We then convert these into actually probabilitiy densities. \n",
    "    t_plot = np.linspace(hit_ts.min() - 2, hit_ts.max() + 2, mesh_points).reshape(-1, 1) \n",
    "    log_dens = kde.score_samples(t_plot)\n",
    "    dens = np.exp(log_dens)\n",
    "\n",
    "    # Find valleys in KDE curve (ie, local minima)\n",
    "    #Can use scipy peak finding, but invert data so we are really finding the local minima! Returns indices\n",
    "    inverted = -dens\n",
    "    valleys, _ = find_peaks(inverted)\n",
    "    valley_positions = t_plot[valleys].flatten() #this step maps our indices onto actual times. \n",
    "\n",
    "    # Assign cluster index based on which region the point falls into\n",
    "    def assign_cluster(t, boundaries):\n",
    "        for i, b in enumerate(boundaries): #will loop through boundaries and the last one assigned will be the one it fits into.\n",
    "            if t < b:\n",
    "                return(i)\n",
    "        return(len(boundaries))\n",
    "\n",
    "    labels = np.array([assign_cluster(t, valley_positions) for t in hit_ts]) #assign labels to our hits. \n",
    "\n",
    "    \n",
    "    if (plot == True): #output a KDE plot\n",
    "        plt.plot(t_plot[:, 0], dens, label=\"KDE\")\n",
    "        plt.scatter(hit_ts, np.zeros_like(hit_ts), c=labels, cmap='tab20', s=50, label=\"Time Segments\")\n",
    "        for v in valley_positions:\n",
    "            plt.axvline(v, color='gray', linestyle='--', linewidth=1)\n",
    "        plt.title(\"KDE-based hit Clustering\")\n",
    "        plt.xlabel(\"Hit Time\")\n",
    "        plt.yticks([])\n",
    "        plt.legend()\n",
    "        plt.show()\n",
    "\n",
    "    print(f\"We found {len(np.unique(labels))} clusters\")\n",
    "    clusters_added = np.column_stack((hits, labels)) #save our data with cluster labels added to the end of each hit row. \n",
    "    \n",
    "    return(clusters_added)"
   ]
  },
  {
   "cell_type": "code",
   "execution_count": 16,
   "id": "7e518a0c-a0ff-4ae3-97ec-8f007a914406",
   "metadata": {},
   "outputs": [],
   "source": [
    "time_sorted_hits = BuildInputArray(merged_tree)"
   ]
  },
  {
   "cell_type": "code",
   "execution_count": 17,
   "id": "9bc26afa-779c-42ad-8e76-a48f00b63d5c",
   "metadata": {},
   "outputs": [
    {
     "name": "stdout",
     "output_type": "stream",
     "text": [
      "We found 145 clusters\n",
      "We found 128 clusters\n",
      "We found 131 clusters\n",
      "We found 120 clusters\n",
      "We found 131 clusters\n",
      "We found 133 clusters\n",
      "We found 154 clusters\n",
      "We found 125 clusters\n",
      "We found 135 clusters\n",
      "We found 150 clusters\n",
      "We found 141 clusters\n",
      "We found 137 clusters\n",
      "We found 126 clusters\n"
     ]
    }
   ],
   "source": [
    "spills_fine_segmented = [] #this list will store all of the hits with fine segmentation grouped by spill. \n",
    "spills = np.unique(time_sorted_hits[:,-1]) #grab spill numbers (should always be 0,12 for current sim)\n",
    "mesh_points_fine = 10000\n",
    "bandwidth_fine = 15\n",
    "for spill_no in spills:\n",
    "    selected_spill = spill_no\n",
    "    hits_in_spill = time_sorted_hits[time_sorted_hits[:,-1] == selected_spill ] #grabbing our desired spill\n",
    "\n",
    "    #We can include a routine here to scan and eliminate long-lived neutrons.\n",
    "    hit_time_range = (max(hits_in_spill[:,5]) - min(hits_in_spill[:,5]))\n",
    "    if hit_time_range > 1200000000: #set a threshold at hits occuring a full spill step late. \n",
    "        rel_time = min(hits_in_spill[:,5]) \n",
    "        ceiling_time = rel_time + 1200000000\n",
    "        indices = np.where([hits_in_spill[:,5] > ceiling_time])[1][0] #grab index of hits greater than ceiling time.\n",
    "        hits_in_spill = np.delete(hits_in_spill, indices, axis = 0)\n",
    "        print(f'deleted index {indices} from spill {spill_no}')\n",
    "        \n",
    "    time_segmented = MakeKDSegments(hits_in_spill, bandwidth = bandwidth_fine, mesh_points = mesh_points_fine, plot = False)\n",
    "    spills_fine_segmented.append(time_segmented)\n",
    "\n",
    "time_segmented_hits = np.vstack(spills_fine_segmented)"
   ]
  },
  {
   "cell_type": "code",
   "execution_count": 18,
   "id": "cd70d221-3b82-4c9c-88b9-ec4ce1f9c921",
   "metadata": {},
   "outputs": [],
   "source": [
    "#DBSCAN code\n",
    "def BiasedDBSCAN(seg_hits_, Epsilon, MinCluster, scale_vec): #scale_vec is a tuple like (z_scale, x_scale, t_scale)\n",
    "    z_scale, x_scale, t_scale = scale_vec\n",
    "    nns = seg_hits_[:,0]\n",
    "    hit_xs = seg_hits_[:,2]\n",
    "    hit_zs = seg_hits_[:,4]\n",
    "    hit_ts = seg_hits_[:,5]\n",
    "    if len(np.unique(hit_xs)) > 1 and len(np.unique(hit_zs)) > 1 and len(np.unique(hit_ts)) > 1 : #this serves to check if there is more than 3 unique dimensions in our vector. If none, just assign same label 0 for whole group. \n",
    "        min_x = min(hit_xs)\n",
    "        max_x = max(hit_xs)\n",
    "        x_range = max_x - min_x\n",
    "        normalized_xs = (hit_xs + abs(min_x)) / x_range\n",
    "        scaled_xs = x_scale * normalized_xs\n",
    "\n",
    "        #Normalize z\n",
    "        min_z = min(hit_zs)\n",
    "        max_z = max(hit_zs)\n",
    "        z_range = max_z - min_z\n",
    "        normalized_zs = (hit_zs - min_z) / (z_range)\n",
    "        scaled_zs = z_scale * normalized_zs\n",
    "\n",
    "        #Normalize t (this won't work for negative t I don't think..)\n",
    "        min_t = min(hit_ts)\n",
    "        max_t = max(hit_ts)\n",
    "        t_range = max_t - min_t\n",
    "        normalized_ts = (hit_ts - min_t) / (t_range)\n",
    "        scaled_ts = t_scale * normalized_ts\n",
    "\n",
    "        scaled_hit_vecs = []\n",
    "        for i in range(len(scaled_xs)):\n",
    "            scaled_hit_vec = [scaled_zs[i], scaled_xs[i], scaled_ts[i]]\n",
    "            scaled_hit_vecs.append(scaled_hit_vec)\n",
    "\n",
    "        scaled_hit_vec_array = np.array(scaled_hit_vecs)\n",
    "\n",
    "        labels = (DBSCAN(eps = Epsilon, min_samples = MinCluster).fit(scaled_hit_vec_array)).labels_\n",
    "    else:\n",
    "        labels = np.zeros_like(hit_xs)\n",
    "\n",
    "    \n",
    "    return(np.column_stack((seg_hits_, labels)))\n",
    "\n",
    "#This function runs DBSCAN on a full file worth of hit segments. \n",
    "def FileRunDBSCAN(hits_segmented_, EPSILON, MINPOINTS, scale_vector):\n",
    "    spills = np.unique(hits_segmented_[:,-3])\n",
    "    labeled_segments = []\n",
    "    for spill_no in spills:\n",
    "        #the hits in a given spill\n",
    "        spill_hits = hits_segmented_[(hits_segmented_[:,-3] == spill_no)]\n",
    "        segments = np.unique(spill_hits[:,-1])\n",
    "        for segment in segments:\n",
    "            #the hits in a given segment of a spill\n",
    "            segment_hits = spill_hits[spill_hits[:,-1] == segment]\n",
    "            labeled_hits = BiasedDBSCAN(segment_hits, EPSILON, MINPOINTS, scale_vector)\n",
    "            labeled_segments.append(labeled_hits)\n",
    "\n",
    "    return(np.vstack(labeled_segments))\n"
   ]
  },
  {
   "cell_type": "code",
   "execution_count": 19,
   "id": "f188ca1f-560d-43ac-b2e6-6827b7fee33e",
   "metadata": {},
   "outputs": [],
   "source": [
    "dbscanned = np.load('/sdf/home/k/ktwall/hits_clustered_epsilon_0.1_2500.npz')['first']"
   ]
  },
  {
   "cell_type": "code",
   "execution_count": 20,
   "id": "6390a586-3642-454d-b0e9-01fe2c2fce07",
   "metadata": {},
   "outputs": [
    {
     "data": {
      "text/plain": [
       "array([  29.        , 1453.28751381])"
      ]
     },
     "execution_count": 20,
     "metadata": {},
     "output_type": "execute_result"
    }
   ],
   "source": [
    "neutrino_tree.keys()\n",
    "neutrino_info_set = np.column_stack( (neutrino_tree[\"VisibleHits\"].array(), neutrino_tree[\"VisiblePEs\"].array() ) ).to_numpy()\n",
    "neutrino_info_set[0]"
   ]
  },
  {
   "cell_type": "code",
   "execution_count": 21,
   "id": "af9f10c1-1271-4fba-8323-6df256308564",
   "metadata": {},
   "outputs": [],
   "source": [
    "def time_segment_eval(dbscanned, neutrino_info_set):\n",
    "    time_segment_metric_array = np.zeros((len(neutrino_info_set),3))\n",
    "\n",
    "    for i in range(len(neutrino_info_set)):\n",
    "        time_segment_metric_array[i][0] = i\n",
    "\n",
    "    segment_occupancies = []\n",
    "    for spill_ in (np.unique(dbscanned[:,-3])):\n",
    "        spill_hits = dbscanned[dbscanned[:,-3] == spill_]\n",
    "        for segment in np.unique(spill_hits[:,-2]):\n",
    "            segment_hits = spill_hits[spill_hits[:,-2] == segment]\n",
    "            segment_occupancies.append(len(np.unique(segment_hits[:,0])))\n",
    "            for nn in np.unique(segment_hits[:,0]): #grab all the nns in the segment\n",
    "                nn_hits = segment_hits[segment_hits[:,0] == nn]\n",
    "\n",
    "                #grab segment splits\n",
    "                seen_hits = len(nn_hits)\n",
    "                seen_PEs = np.sum(nn_hits[:,6])\n",
    "\n",
    "                #grab totals\n",
    "                nn_vis_hits = neutrino_info_set[int(nn)][0]\n",
    "                nn_vis_PEs = neutrino_info_set[int(nn)][1]\n",
    "\n",
    "                #Update containment array\n",
    "                if (time_segment_metric_array[int(nn)][1]) <= (seen_hits / nn_vis_hits) :\n",
    "                    time_segment_metric_array[int(nn)][1] = seen_hits / nn_vis_hits #hits contained\n",
    "\n",
    "                if (time_segment_metric_array[int(nn)][2]) <= (seen_PEs / nn_vis_PEs) :\n",
    "                    time_segment_metric_array[int(nn)][2] = seen_PEs / nn_vis_PEs #PEs contained\n",
    "\n",
    "    hit_content_mask = neutrino_info_set[:,0] != 0\n",
    "    time_segment_metric_array[hit_content_mask]\n",
    "    return((time_segment_metric_array[hit_content_mask], segment_occupancies))"
   ]
  },
  {
   "cell_type": "code",
   "execution_count": 22,
   "id": "e7ef9b3f-51d6-4928-a276-3c992e6a9d50",
   "metadata": {},
   "outputs": [],
   "source": [
    "def dbscan_eval(dbscanned, neutrino_info_set):\n",
    "    dbscan_metric_array = np.zeros((len(neutrino_info_set),3))\n",
    "\n",
    "    for i in range((len(neutrino_info_set))):\n",
    "        dbscan_metric_array[i][0] = i\n",
    "\n",
    "    dbscan_occupancies = []\n",
    "    for spill_ in (np.unique(dbscanned[:,-3])):\n",
    "        spill_hits = dbscanned[dbscanned[:,-3] == spill_]\n",
    "        for segment in np.unique(spill_hits[:,-2]):\n",
    "            segment_hits = spill_hits[spill_hits[:,-2] == segment]\n",
    "            for cluster in np.unique(segment_hits[:,-1]):\n",
    "                cluster_hits = segment_hits[segment_hits[:,-1] == cluster]\n",
    "                dbscan_occupancies.append(len(np.unique(cluster_hits[:,0])))\n",
    "                for nn in np.unique(cluster_hits[:,0]): #grab all the nns in the cluster\n",
    "                    nn_hits = cluster_hits[cluster_hits[:,0] == nn]\n",
    "\n",
    "                    #grab segment splits\n",
    "                    seen_hits = len(nn_hits)\n",
    "                    seen_PEs = np.sum(nn_hits[:,6])\n",
    "\n",
    "                    #grab totals\n",
    "                    nn_vis_hits = neutrino_info_set[int(nn)][0]\n",
    "                    nn_vis_PEs = neutrino_info_set[int(nn)][1]\n",
    "\n",
    "                    #Update containment array\n",
    "                    if (dbscan_metric_array[int(nn)][1]) <= (seen_hits / nn_vis_hits) :\n",
    "                        dbscan_metric_array[int(nn)][1] = seen_hits / nn_vis_hits #hits contained\n",
    "\n",
    "                    if (dbscan_metric_array[int(nn)][2]) <= (seen_PEs / nn_vis_PEs) :\n",
    "                        dbscan_metric_array[int(nn)][2] = seen_PEs / nn_vis_PEs #PEs contained\n",
    "\n",
    "    hit_content_mask = neutrino_info_set[:,0] != 0\n",
    "    return((dbscan_metric_array[hit_content_mask], dbscan_occupancies))"
   ]
  },
  {
   "cell_type": "code",
   "execution_count": 24,
   "id": "edb302a7-9ccc-4fb3-b3a2-9ec54463c5be",
   "metadata": {},
   "outputs": [
    {
     "ename": "NameError",
     "evalue": "name 'dbscan_metric_array' is not defined",
     "output_type": "error",
     "traceback": [
      "\u001b[0;31m---------------------------------------------------------------------------\u001b[0m",
      "\u001b[0;31mNameError\u001b[0m                                 Traceback (most recent call last)",
      "Cell \u001b[0;32mIn[24], line 1\u001b[0m\n\u001b[0;32m----> 1\u001b[0m plt\u001b[38;5;241m.\u001b[39mhist(\u001b[43mdbscan_metric_array\u001b[49m[hit_content_mask][:,\u001b[38;5;241m1\u001b[39m])\n",
      "\u001b[0;31mNameError\u001b[0m: name 'dbscan_metric_array' is not defined"
     ]
    }
   ],
   "source": [
    "plt.hist(dbscan_metric_array[hit_content_mask][:,1])"
   ]
  },
  {
   "cell_type": "code",
   "execution_count": 28,
   "id": "3ec6ceae-d81e-4180-aff1-8163be774cf1",
   "metadata": {},
   "outputs": [],
   "source": [
    "test_file = np.load('/sdf/home/k/ktwall/hits_clustered_epsilon_0.1_2500.npz')"
   ]
  }
 ],
 "metadata": {
  "kernelspec": {
   "display_name": "Python 3 (ipykernel)",
   "language": "python",
   "name": "python3"
  },
  "language_info": {
   "codemirror_mode": {
    "name": "ipython",
    "version": 3
   },
   "file_extension": ".py",
   "mimetype": "text/x-python",
   "name": "python",
   "nbconvert_exporter": "python",
   "pygments_lexer": "ipython3",
   "version": "3.10.12"
  }
 },
 "nbformat": 4,
 "nbformat_minor": 5
}
