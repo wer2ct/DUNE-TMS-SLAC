{
 "cells": [
  {
   "cell_type": "markdown",
   "id": "9e2ef444-c7c4-4be2-b6d3-dbd746c4c0fa",
   "metadata": {},
   "source": [
    "This notebook demonstrates some of the basic functionality of the DUNE-TMS-SLAC repository (at least as it existed in late August 2025).\n",
    "I'll also document here some of the basic To Dos and open bugs (none are particularly severe!)"
   ]
  },
  {
   "cell_type": "markdown",
   "id": "c084f4cd-3700-462b-8202-c2ba2d7be9e7",
   "metadata": {},
   "source": [
    "This package was designed to be run on the full-spill MC developed by Alex Booth, though they likely will also work on earlier MC presuming that no changes were made to the spill structure or general file organization.\n",
    "Each of the scripts in the python directory work sequentially. The chain runs: edep-sim -> TMS_DetectorEffects.py -> TMS_HitClustering.py -> TMS_ClusterToGraph.py -> TMS_ModelAndTrain.py (assuming you would like to do semantic label prediction). "
   ]
  },
  {
   "cell_type": "markdown",
   "id": "dabe904f-6c8e-4e27-887b-af7cc4208c3b",
   "metadata": {},
   "source": [
    "The TMS_DetectorEffects.py script in particular is designed to stand independent of the rest of the chain. This script handles all of the detector effects simulation (including hit-wise affects like optical attenuation and multi-hit effects like coincident hit merging), and produces output in the form of root files. You can see in detail how the root output is produced, including all of the functions producing the detector effects simulation, in the python script itself, I've tried my best to include documentation where code is unclear. Another resource to check out is the dune-tms TMS_Event.cxx script (or some similar name). My detector effects simulation was modeled after this, and in many places, simply pythonized directly from the C++ code to ensure consistency across reco packages. The first part of this notebook will review the output of the detector effects simulation run on a file. "
   ]
  },
  {
   "cell_type": "code",
   "execution_count": 1,
   "id": "b722e7db-80bc-486f-81df-0a69395f922d",
   "metadata": {},
   "outputs": [
    {
     "name": "stdout",
     "output_type": "stream",
     "text": [
      "Welcome to JupyROOT 6.26/16\n"
     ]
    }
   ],
   "source": [
    "#Imports\n",
    "import numpy as np\n",
    "import matplotlib.pyplot as plt\n",
    "import collections\n",
    "import ROOT as root\n",
    "import awkward as ak\n",
    "import uproot\n",
    "from array import array\n",
    "import torch\n",
    "from torch_geometric.data import Data, Dataset\n",
    "import sys\n",
    "import os"
   ]
  },
  {
   "cell_type": "markdown",
   "id": "2afb2dda-463e-4eab-a811-ba5f691717bc",
   "metadata": {},
   "source": [
    "A brief note on imports and dependencies - this package is designed specifically to be run using the SLAC neutrino group singularity image (in particular I built it using \"SINGULARITY_IMAGE_PATH=/sdf/group/neutrino/images/develop.sif\"). This image should support all imported packages. If it yells at you, contact me or Kazu. "
   ]
  },
  {
   "cell_type": "markdown",
   "id": "69744d8a-d4c2-460f-adec-77ff7a841ca5",
   "metadata": {},
   "source": [
    "The sdf location for the full-spill edep-sim files that serve as input to TMS_DetectorEffects.py is \"/sdf/data/neutrino/summer25/tanaka/nd-production/run-spill-build/MicroProdN4p1_NDComplex_FHC.spill.full/EDEPSIM_SPILLS/\". This contains a few subdirectories where the actual .root files are. I believe that there are 101 total files. If you are just interested in taking a look at some of the output and not running the script, you can find the most up-to-date version of the detsim output .root files here: \"/sdf/data/neutrino/summer25/ktwall/full_spill_detsim/\". As of writing not all the MC has been converted to this version of the detsim. Let's pick a file at random and check it out. I'll be using uproot to do my .root file navigation but one can also navigate via TBrowser(), or the PyROOT bindings. "
   ]
  },
  {
   "cell_type": "code",
   "execution_count": 3,
   "id": "5a2fd228-9988-4447-8e1c-21b542d12f9e",
   "metadata": {},
   "outputs": [],
   "source": [
    "example_detsim_file = uproot.open(\"/sdf/data/neutrino/summer25/ktwall/full_spill_detsim/detsim_2557.root\") #open the file with uproot. "
   ]
  },
  {
   "cell_type": "markdown",
   "id": "d55302ed-9bd3-44ef-a9ad-3d0f840b79c8",
   "metadata": {},
   "source": [
    "We can now pull the three trees and display their branches. A thing that is super important to note is that what maps to a branch entry differs across trees. For the Unmerged Tree, one entry corresponds to one unmerged hit, for the Merged Tree, one entry corresponds to one merged hit. There are definitionally fewer of these merged entries than unmerged entries (motivating them having different trees), and so the entry indices do NOT map to the same TMS hits across trees. One entry in the neutrino vertex tree maps to a single neutrino vertex. This tree saves ALL the neutrino vertices for a file, not just the ones producing TMS hits. This was done initially to get statistics on how many neutrino vertices are TMS fiducial, but could in principle be changed in the future. "
   ]
  },
  {
   "cell_type": "code",
   "execution_count": 4,
   "id": "41083593-d018-48b7-aac4-8430adb61e91",
   "metadata": {},
   "outputs": [
    {
     "name": "stdout",
     "output_type": "stream",
     "text": [
      "['UnmergedTree;1', 'MergedTree;1', 'NeutrinoVertexTree;1']\n"
     ]
    }
   ],
   "source": [
    "print(example_detsim_file.keys()) #show the constituent trees"
   ]
  },
  {
   "cell_type": "code",
   "execution_count": 5,
   "id": "f05f1dcf-66d7-4b17-b9ec-aeed34cfc7ab",
   "metadata": {},
   "outputs": [],
   "source": [
    "#Pull our trees\n",
    "UnmergedTree = example_detsim_file['UnmergedTree']\n",
    "MergedTree = example_detsim_file['MergedTree']\n",
    "NeutrinoTree = example_detsim_file['NeutrinoVertexTree']"
   ]
  },
  {
   "cell_type": "code",
   "execution_count": 6,
   "id": "0ef90695-40c9-4bc3-9e39-d33b8862274e",
   "metadata": {},
   "outputs": [
    {
     "name": "stdout",
     "output_type": "stream",
     "text": [
      "['neutrino_number', 'hit_number', 'spill_number', 'trackid', 'file_number', 'TrueHitX', 'TrueHitY', 'TrueHitZ', 'TrueHitT', 'TrueHitDx', 'TruePrimDep', 'DetSimHitX', 'DetSimHitY', 'DetSimHitZ', 'DetSimHitT', 'DetSimHitPE', 'DetSimHitBarNo', 'DetSimHitLayerNo', 'DetSimHitBarOrient']\n"
     ]
    }
   ],
   "source": [
    "#Unmerged Tree Branches\n",
    "print(UnmergedTree.keys())"
   ]
  },
  {
   "cell_type": "code",
   "execution_count": 7,
   "id": "6d671c40-c063-4806-b05c-9d43331676dd",
   "metadata": {},
   "outputs": [
    {
     "name": "stdout",
     "output_type": "stream",
     "text": [
      "['MergedNeutrinoNumber', 'MergedHitNumber', 'MergedSpillNumber', 'MergedTrackid', 'MergedFileNumber', 'MergedTrueHitX', 'MergedTrueHitY', 'MergedTrueHitZ', 'MergedTrueHitT', 'MergedTrueHitDx', 'MergedTruePrimDep', 'MergedDetSimHitX', 'MergedDetSimHitY', 'MergedDetSimHitZ', 'MergedDetSimHitT', 'MergedDetSimHitPE', 'MergedDetSimHitBarNo', 'MergedDetSimHitLayerNo', 'MergedDetSimHitBarOrient', 'constituent_neutrino_numbers', 'constituent_hit_numbers', 'constituent_hit_trackids', 'constituent_hitTs', 'constituent_hitPEs']\n"
     ]
    }
   ],
   "source": [
    "#Merged Tree Branches\n",
    "print(MergedTree.keys())"
   ]
  },
  {
   "cell_type": "code",
   "execution_count": 8,
   "id": "1a05700b-1cc8-44a6-8dbe-ec7b57af0e95",
   "metadata": {},
   "outputs": [
    {
     "name": "stdout",
     "output_type": "stream",
     "text": [
      "['NeutrinoVtxX', 'NeutrinoVtxY', 'NeutrinoVtxZ', 'NeutrinoVtxT', 'NeutrinoNumber', 'FileNumber', 'NeutrinoSpill', 'VisibleHits', 'VisiblePEs']\n"
     ]
    }
   ],
   "source": [
    "#Neutrino Tree Branches\n",
    "print(NeutrinoTree.keys())"
   ]
  },
  {
   "cell_type": "markdown",
   "id": "36a2023c-5863-4571-95d2-ca26e643ba40",
   "metadata": {},
   "source": [
    "Hopefully most of the branch names are intuitive, but you can check out the detector effects python file to see specifically how stuff gets filled. The easiest way to access information from within a branch is via the .array() or .arrays() method in uproot. "
   ]
  },
  {
   "cell_type": "code",
   "execution_count": 28,
   "id": "715dd533-b622-4135-9f2a-814c4b9be5eb",
   "metadata": {},
   "outputs": [
    {
     "name": "stdout",
     "output_type": "stream",
     "text": [
      "first hit neutrino number is: 2\n",
      "[   2    2    2 ... 5457 5457 5457] [ 0  0  0 ... 11 11 11]\n"
     ]
    }
   ],
   "source": [
    "neutrino_number_array_unmerged = UnmergedTree['neutrino_number'].arrays()\n",
    "#grab the neutrino number of the first hit:\n",
    "print(f\"first hit neutrino number is: {neutrino_number_array_unmerged.neutrino_number[0]}\")\n",
    "#We can also grab information in bulk\n",
    "unmerged_hit_data = UnmergedTree.arrays(\n",
    "        [\"neutrino_number\", \"hit_number\", \"trackid\", \"spill_number\", \"TrueHitX\", \"TrueHitY\", \"TrueHitZ\", \"TrueHitT\", \n",
    "         \"TrueHitDx\", \"TruePrimDep\", \"DetSimHitX\", \"DetSimHitY\", \"DetSimHitZ\", \"DetSimHitT\", \n",
    "         \"DetSimHitPE\", \"DetSimHitBarNo\", \"DetSimHitLayerNo\", \"DetSimHitBarOrient\"],\n",
    "        library=\"np\"\n",
    "    )\n",
    "#Arrays of neutrino and spill numbers for all hits. Rather uniquely, we've found a file with only 12 spills! Most have 13. \n",
    "print(unmerged_hit_data[\"neutrino_number\"], unmerged_hit_data[\"spill_number\"])"
   ]
  },
  {
   "cell_type": "markdown",
   "id": "1a4838d5-60c5-4d67-b6b5-a634ccf13408",
   "metadata": {},
   "source": [
    "Let's do something with this data and demonstrate our detector effects simulation. This next snippet will plot two event displays in x and z, one with the truth hits and PEs, and the other with the detector effect sim hits and PEs. "
   ]
  },
  {
   "cell_type": "code",
   "execution_count": 36,
   "id": "93b0cea3-7758-4d9e-9913-e34dc3915550",
   "metadata": {},
   "outputs": [
    {
     "name": "stdout",
     "output_type": "stream",
     "text": [
      "[5.]\n"
     ]
    }
   ],
   "source": [
    "# we want to be able to grab all the hits belonging to a specific neutrino number (ie, neutrino interaction)\n",
    "chosen_interaction_nn = 5\n",
    "\n",
    "#A quick way to do this is to take advantage of numpy array fancy indexing - a trick I use all the time in my scripts. First lets pull all the arrays we want. \n",
    "\n",
    "hit_nns = unmerged_hit_data[\"neutrino_number\"]\n",
    "true_xs = unmerged_hit_data[\"TrueHitX\"]\n",
    "true_zs = unmerged_hit_data[\"TrueHitZ\"]\n",
    "true_ts = unmerged_hit_data[\"TrueHitT\"]\n",
    "TruePrimDep = unmerged_hit_data[\"TruePrimDep\"] * 50.0 #account for light yield to convert to PE\n",
    "\n",
    "detsim_xs = unmerged_hit_data[\"DetSimHitX\"]\n",
    "detsim_zs = unmerged_hit_data[\"DetSimHitZ\"]\n",
    "detsim_ts = unmerged_hit_data[\"DetSimHitT\"]\n",
    "detsimDep = unmerged_hit_data[\"DetSimHitPE\"]\n",
    "\n",
    "#Now lets stack them column wise using np.column_stack\n",
    "\n",
    "info_array = np.column_stack((hit_nns, true_xs, true_zs, true_ts, TruePrimDep, detsim_xs, detsim_zs, detsim_ts, detsimDep))\n",
    "\n",
    "#Now we can use numpy fancy indexing to only pull the neutrino interaciton we are interested in:\n",
    "\n",
    "selected_info_array = info_array[info_array[:,0] == chosen_interaction_nn]\n",
    "print(np.unique(selected_info_array[:,0])) #nice, only have events with neutrino number matching our chosen one!\n",
    "#Now we can make our plots:"
   ]
  },
  {
   "cell_type": "code",
   "execution_count": null,
   "id": "f4e9980d-1b47-4ca7-9fa0-3b3f0dba19a0",
   "metadata": {},
   "outputs": [],
   "source": []
  }
 ],
 "metadata": {
  "kernelspec": {
   "display_name": "Python 3 (ipykernel)",
   "language": "python",
   "name": "python3"
  },
  "language_info": {
   "codemirror_mode": {
    "name": "ipython",
    "version": 3
   },
   "file_extension": ".py",
   "mimetype": "text/x-python",
   "name": "python",
   "nbconvert_exporter": "python",
   "pygments_lexer": "ipython3",
   "version": "3.10.12"
  }
 },
 "nbformat": 4,
 "nbformat_minor": 5
}
